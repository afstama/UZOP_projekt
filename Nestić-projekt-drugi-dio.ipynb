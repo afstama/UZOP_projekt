{
 "cells": [
  {
   "cell_type": "markdown",
   "metadata": {
    "id": "jc_8XakJdoj_"
   },
   "source": [
    "### **Uvod u znanost o podacima (UZOP) - Projekt - Drugi dio**\n",
    "***"
   ]
  },
  {
   "cell_type": "code",
   "execution_count": 322,
   "metadata": {
    "id": "q0cBJFiLiDqQ"
   },
   "outputs": [],
   "source": [
    "import pandas as pd\n",
    "import seaborn as sns\n",
    "import matplotlib.pyplot as plt\n",
    "import random as rng\n",
    "from sklearn.preprocessing import LabelEncoder, MinMaxScaler"
   ]
  },
  {
   "cell_type": "markdown",
   "metadata": {},
   "source": [
    "Za uljepšavanje Seaborn vizualizacija, definirano je par boja koje će se onda nasumično birati za svaki graf."
   ]
  },
  {
   "cell_type": "code",
   "execution_count": 323,
   "metadata": {},
   "outputs": [],
   "source": [
    "def get_color():\n",
    "    colors = sns.color_palette(\"muted\")\n",
    "    return rng.sample(colors, 1)[0]"
   ]
  },
  {
   "cell_type": "markdown",
   "metadata": {
    "id": "ukoQiAtYeCNr"
   },
   "source": [
    "#### 0. Učitavanje dataseta"
   ]
  },
  {
   "cell_type": "code",
   "execution_count": 324,
   "metadata": {
    "id": "UsDFVqz5dnNR"
   },
   "outputs": [
    {
     "data": {
      "text/html": [
       "<div>\n",
       "<style scoped>\n",
       "    .dataframe tbody tr th:only-of-type {\n",
       "        vertical-align: middle;\n",
       "    }\n",
       "\n",
       "    .dataframe tbody tr th {\n",
       "        vertical-align: top;\n",
       "    }\n",
       "\n",
       "    .dataframe thead th {\n",
       "        text-align: right;\n",
       "    }\n",
       "</style>\n",
       "<table border=\"1\" class=\"dataframe\">\n",
       "  <thead>\n",
       "    <tr style=\"text-align: right;\">\n",
       "      <th></th>\n",
       "      <th>SEC</th>\n",
       "      <th>Age(years)</th>\n",
       "      <th>Height(cm)</th>\n",
       "      <th>Bgroup</th>\n",
       "      <th>Parity</th>\n",
       "      <th>ANC</th>\n",
       "      <th>Iwt(kg)</th>\n",
       "      <th>FWt(kg)</th>\n",
       "      <th>IBP_sys</th>\n",
       "      <th>IBP_dias</th>\n",
       "      <th>FBP_sys</th>\n",
       "      <th>FBP_dias</th>\n",
       "      <th>IHb(gm%)</th>\n",
       "      <th>FHb(gm%)</th>\n",
       "      <th>BS(RBS)</th>\n",
       "      <th>Term/Preterm</th>\n",
       "      <th>Sex</th>\n",
       "      <th>BWt(kg)</th>\n",
       "      <th>LNH</th>\n",
       "    </tr>\n",
       "  </thead>\n",
       "  <tbody>\n",
       "    <tr>\n",
       "      <th>0</th>\n",
       "      <td>BPL</td>\n",
       "      <td>23.0</td>\n",
       "      <td>146.0</td>\n",
       "      <td>A(+ve)</td>\n",
       "      <td>1.0</td>\n",
       "      <td>4.0</td>\n",
       "      <td>34.0</td>\n",
       "      <td>42.0</td>\n",
       "      <td>116.0</td>\n",
       "      <td>78.0</td>\n",
       "      <td>120.0</td>\n",
       "      <td>70.0</td>\n",
       "      <td>10.0</td>\n",
       "      <td>13.2</td>\n",
       "      <td>90.0</td>\n",
       "      <td>T</td>\n",
       "      <td>F</td>\n",
       "      <td>2.7</td>\n",
       "      <td>2.0</td>\n",
       "    </tr>\n",
       "    <tr>\n",
       "      <th>1</th>\n",
       "      <td>BPL</td>\n",
       "      <td>25.0</td>\n",
       "      <td>165.0</td>\n",
       "      <td>NIL</td>\n",
       "      <td>1.0</td>\n",
       "      <td>3.0</td>\n",
       "      <td>68.0</td>\n",
       "      <td>71.0</td>\n",
       "      <td>96.0</td>\n",
       "      <td>70.0</td>\n",
       "      <td>110.0</td>\n",
       "      <td>72.0</td>\n",
       "      <td>10.4</td>\n",
       "      <td>11.0</td>\n",
       "      <td>96.0</td>\n",
       "      <td>T</td>\n",
       "      <td>M</td>\n",
       "      <td>2.9</td>\n",
       "      <td>2.0</td>\n",
       "    </tr>\n",
       "    <tr>\n",
       "      <th>2</th>\n",
       "      <td>BPL</td>\n",
       "      <td>24.0</td>\n",
       "      <td>155.0</td>\n",
       "      <td>B(+ve)</td>\n",
       "      <td>1.0</td>\n",
       "      <td>3.0</td>\n",
       "      <td>49.0</td>\n",
       "      <td>55.0</td>\n",
       "      <td>91.0</td>\n",
       "      <td>52.0</td>\n",
       "      <td>110.0</td>\n",
       "      <td>70.0</td>\n",
       "      <td>11.0</td>\n",
       "      <td>11.6</td>\n",
       "      <td>102.0</td>\n",
       "      <td>T</td>\n",
       "      <td>M</td>\n",
       "      <td>2.4</td>\n",
       "      <td>1.0</td>\n",
       "    </tr>\n",
       "    <tr>\n",
       "      <th>3</th>\n",
       "      <td>BPL</td>\n",
       "      <td>19.0</td>\n",
       "      <td>154.0</td>\n",
       "      <td>NIL</td>\n",
       "      <td>1.0</td>\n",
       "      <td>2.0</td>\n",
       "      <td>49.0</td>\n",
       "      <td>50.0</td>\n",
       "      <td>90.0</td>\n",
       "      <td>52.0</td>\n",
       "      <td>100.0</td>\n",
       "      <td>60.0</td>\n",
       "      <td>10.0</td>\n",
       "      <td>10.6</td>\n",
       "      <td>103.0</td>\n",
       "      <td>T</td>\n",
       "      <td>F</td>\n",
       "      <td>2.6</td>\n",
       "      <td>2.0</td>\n",
       "    </tr>\n",
       "    <tr>\n",
       "      <th>4</th>\n",
       "      <td>BPL</td>\n",
       "      <td>21.0</td>\n",
       "      <td>150.0</td>\n",
       "      <td>NIL</td>\n",
       "      <td>1.0</td>\n",
       "      <td>4.0</td>\n",
       "      <td>41.0</td>\n",
       "      <td>48.0</td>\n",
       "      <td>100.0</td>\n",
       "      <td>60.0</td>\n",
       "      <td>110.0</td>\n",
       "      <td>70.0</td>\n",
       "      <td>9.0</td>\n",
       "      <td>10.2</td>\n",
       "      <td>99.0</td>\n",
       "      <td>T</td>\n",
       "      <td>F</td>\n",
       "      <td>2.3</td>\n",
       "      <td>1.0</td>\n",
       "    </tr>\n",
       "    <tr>\n",
       "      <th>5</th>\n",
       "      <td>BPL</td>\n",
       "      <td>19.0</td>\n",
       "      <td>150.0</td>\n",
       "      <td>O(+VE)</td>\n",
       "      <td>0.0</td>\n",
       "      <td>4.0</td>\n",
       "      <td>44.0</td>\n",
       "      <td>54.0</td>\n",
       "      <td>100.0</td>\n",
       "      <td>70.0</td>\n",
       "      <td>120.0</td>\n",
       "      <td>80.0</td>\n",
       "      <td>9.0</td>\n",
       "      <td>9.8</td>\n",
       "      <td>93.0</td>\n",
       "      <td>T</td>\n",
       "      <td>F</td>\n",
       "      <td>2.5</td>\n",
       "      <td>2.0</td>\n",
       "    </tr>\n",
       "    <tr>\n",
       "      <th>6</th>\n",
       "      <td>BPL</td>\n",
       "      <td>15.0</td>\n",
       "      <td>147.0</td>\n",
       "      <td>NIL</td>\n",
       "      <td>0.0</td>\n",
       "      <td>4.0</td>\n",
       "      <td>37.0</td>\n",
       "      <td>45.0</td>\n",
       "      <td>80.0</td>\n",
       "      <td>50.0</td>\n",
       "      <td>90.0</td>\n",
       "      <td>70.0</td>\n",
       "      <td>8.9</td>\n",
       "      <td>10.0</td>\n",
       "      <td>97.0</td>\n",
       "      <td>T</td>\n",
       "      <td>M</td>\n",
       "      <td>2.5</td>\n",
       "      <td>2.0</td>\n",
       "    </tr>\n",
       "    <tr>\n",
       "      <th>7</th>\n",
       "      <td>BPL</td>\n",
       "      <td>24.0</td>\n",
       "      <td>153.0</td>\n",
       "      <td>O(+VE)</td>\n",
       "      <td>1.0</td>\n",
       "      <td>3.0</td>\n",
       "      <td>50.0</td>\n",
       "      <td>59.0</td>\n",
       "      <td>100.0</td>\n",
       "      <td>60.0</td>\n",
       "      <td>110.0</td>\n",
       "      <td>60.0</td>\n",
       "      <td>9.5</td>\n",
       "      <td>11.0</td>\n",
       "      <td>111.0</td>\n",
       "      <td>PT</td>\n",
       "      <td>M</td>\n",
       "      <td>3.0</td>\n",
       "      <td>2.0</td>\n",
       "    </tr>\n",
       "  </tbody>\n",
       "</table>\n",
       "</div>"
      ],
      "text/plain": [
       "   SEC  Age(years)  Height(cm)  Bgroup  Parity  ANC  Iwt(kg)  FWt(kg)  \\\n",
       "0  BPL        23.0       146.0  A(+ve)     1.0  4.0     34.0     42.0   \n",
       "1  BPL        25.0       165.0     NIL     1.0  3.0     68.0     71.0   \n",
       "2  BPL        24.0       155.0  B(+ve)     1.0  3.0     49.0     55.0   \n",
       "3  BPL        19.0       154.0     NIL     1.0  2.0     49.0     50.0   \n",
       "4  BPL        21.0       150.0     NIL     1.0  4.0     41.0     48.0   \n",
       "5  BPL        19.0       150.0  O(+VE)     0.0  4.0     44.0     54.0   \n",
       "6  BPL        15.0       147.0     NIL     0.0  4.0     37.0     45.0   \n",
       "7  BPL        24.0       153.0  O(+VE)     1.0  3.0     50.0     59.0   \n",
       "\n",
       "   IBP_sys  IBP_dias  FBP_sys  FBP_dias  IHb(gm%)  FHb(gm%)  BS(RBS)  \\\n",
       "0    116.0      78.0    120.0      70.0      10.0      13.2     90.0   \n",
       "1     96.0      70.0    110.0      72.0      10.4      11.0     96.0   \n",
       "2     91.0      52.0    110.0      70.0      11.0      11.6    102.0   \n",
       "3     90.0      52.0    100.0      60.0      10.0      10.6    103.0   \n",
       "4    100.0      60.0    110.0      70.0       9.0      10.2     99.0   \n",
       "5    100.0      70.0    120.0      80.0       9.0       9.8     93.0   \n",
       "6     80.0      50.0     90.0      70.0       8.9      10.0     97.0   \n",
       "7    100.0      60.0    110.0      60.0       9.5      11.0    111.0   \n",
       "\n",
       "  Term/Preterm Sex  BWt(kg)  LNH  \n",
       "0            T   F      2.7  2.0  \n",
       "1            T   M      2.9  2.0  \n",
       "2            T   M      2.4  1.0  \n",
       "3            T   F      2.6  2.0  \n",
       "4            T   F      2.3  1.0  \n",
       "5            T   F      2.5  2.0  \n",
       "6            T   M      2.5  2.0  \n",
       "7           PT   M      3.0  2.0  "
      ]
     },
     "execution_count": 324,
     "metadata": {},
     "output_type": "execute_result"
    }
   ],
   "source": [
    "dataset = pd.read_csv('CBWDB.csv')\n",
    "dataset.head(8)"
   ]
  },
  {
   "cell_type": "markdown",
   "metadata": {},
   "source": [
    "Kao i iz opisa dataseta, može se vidjeti da on sadrži 19 različitih značajki, od kojih je posljednja ciljna (3 kategorije težine djeteta), i sveukupno 1800 podatkovnih redaka.\n",
    "\n",
    "**SEC** - Socio-Economic Condition  \n",
    "**Age(years)** - Age of mother at the time of pregnancy  \n",
    "**Height(cm)** - Height of mother at the time of pregnancy  \n",
    "**Bgroup** - Blood Group of mother  \n",
    "**Parity** - No. of previous pregnancy crossing the period of viability  \n",
    "**ANC** - Antenatal Check  \n",
    "**Iwt(kg)** - Initial weight of mother  \n",
    "**FWt(kg)** - Final weight of mother (Last ANC)  \n",
    "**IBP_sys** - Initial systolic Blood Pressure  \n",
    "**IBP_dias** - Initial diastolic Blood Pressure  \n",
    "**FBP_sys** - Final systolic Blood Pressure (Last ANC)  \n",
    "**FBP_dias** - Final diastolic Blood Pressure (last ANC)  \n",
    "**IHb(gm%)** - Initial Haemoglobin level  \n",
    "**FHb(gm%)** - Final Haemoglobin level (Last ANC)  \n",
    "**BS(RBS)** - Blood Sugar (Random)  \n",
    "**Term/Preterm** - **Term**: 37 to 40 weeks, **Preterm**: <37 weeks  \n",
    "**Sex** - Sex of new born baby  \n",
    "**BWt(kg)** - Baby birth weight  \n",
    "  \n",
    "**LNH** - Low-weight (1), Normal-weight (2), Over-weight (3) "
   ]
  },
  {
   "cell_type": "markdown",
   "metadata": {},
   "source": [
    "#### 1. Vrijednosti target stupca\n",
    "Odmah s početka, pogledat ćemo kako ugrubo izgleda distribucija ciljnog **LNH** atributa, odnosno i **BWt(kg)** pošto označavaju istu stvar."
   ]
  },
  {
   "cell_type": "code",
   "execution_count": 325,
   "metadata": {},
   "outputs": [
    {
     "name": "stdout",
     "output_type": "stream",
     "text": [
      "Low-weight: 142,    Normal-weight: 926,    Over-weight: 4\n"
     ]
    },
    {
     "data": {
      "image/png": "[encoded data removed]",
      "text/plain": [
       "<Figure size 864x288 with 2 Axes>"
      ]
     },
     "metadata": {
      "needs_background": "light"
     },
     "output_type": "display_data"
    }
   ],
   "source": [
    "print(f\"Low-weight: {(dataset['LNH'] == 1).sum()},\\\n",
    "    Normal-weight: {(dataset['LNH'] == 2).sum()},\\\n",
    "    Over-weight: {(dataset['LNH'] == 3).sum()}\")\n",
    "\n",
    "fig, axes = plt.subplots(1, 2, figsize=(12, 4))\n",
    "axes = axes.flatten()\n",
    "\n",
    "sns.barplot(dataset[\"LNH\"].value_counts(), ax=axes[0], color=get_color())\n",
    "sns.histplot(dataset, x='BWt(kg)', ax=axes[1], color=get_color())\n",
    "\n",
    "plt.tight_layout()\n",
    "plt.show()"
   ]
  },
  {
   "cell_type": "markdown",
   "metadata": {},
   "source": [
    "Vidimo da je jako veliki dio LNH vrijednosti upravo 2 što označava normalnu težinu. Takva distribucija, iako nije baš pogodna za klasifikaciju, reflektira stvarnu situaciju kod poroda djeteta, kada je u samo manjem broju slučaja novorođenče premale ili prevelike tjelesne težine."
   ]
  },
  {
   "cell_type": "markdown",
   "metadata": {},
   "source": [
    "#### 2. Provjera monotonih i konstantnih vrijednosti\n",
    "Iz samog opisa atributa, moguće je zaključiti da ovaj skup podataka nema niti monotonih niti konstantnih vrijednosti, ali za svaki slučaj da se uvjerimo ćemo pokrenuti metode koje detektiraju takve stupce."
   ]
  },
  {
   "cell_type": "code",
   "execution_count": 326,
   "metadata": {},
   "outputs": [
    {
     "name": "stdout",
     "output_type": "stream",
     "text": [
      "Monotone značajke: 0\n",
      "Konstantne značajke: 0\n"
     ]
    }
   ],
   "source": [
    "monotonic = []\n",
    "constant = []\n",
    "\n",
    "for col in dataset.columns:\n",
    "    if dataset[col].is_monotonic_increasing or dataset[col].is_monotonic_decreasing:\n",
    "        monotonic.append(col)\n",
    "    elif dataset[col].nunique() == 1:\n",
    "        constant.append(col)\n",
    "\n",
    "print(f'Monotone značajke: {len(monotonic)}')\n",
    "print(f'Konstantne značajke: {len(constant)}')\n",
    "\n",
    "columns_to_remove = set(monotonic)\n",
    "columns_to_remove.update(constant)\n",
    "dataset = dataset.drop(columns=columns_to_remove)"
   ]
  },
  {
   "cell_type": "markdown",
   "metadata": {},
   "source": [
    "#### 3. Provjera nedostajućih vrijednosti\n",
    "Provjeravat ćemo konkretan broj vrijednosti koje nedostaju u nekom stupcu, i zbog povećanja informacijske koristi i postotak tih nedostajućih vrijednosti u odnosi na ukupan broj vrijednosti."
   ]
  },
  {
   "cell_type": "code",
   "execution_count": 327,
   "metadata": {},
   "outputs": [
    {
     "name": "stdout",
     "output_type": "stream",
     "text": [
      "                 0          %\n",
      "BS(RBS)       1192  66.222222\n",
      "Bgroup        1002  55.666667\n",
      "Term/Preterm   838  46.555556\n",
      "LNH            728  40.444444\n",
      "BWt(kg)        728  40.444444\n",
      "Sex            658  36.555556\n",
      "SEC            650  36.111111\n",
      "FHb(gm%)       407  22.611111\n",
      "IHb(gm%)       405  22.500000\n",
      "Height(cm)     273  15.166667\n",
      "FWt(kg)         61   3.388889\n",
      "FBP_dias        52   2.888889\n",
      "FBP_sys         51   2.833333\n",
      "Iwt(kg)         49   2.722222\n",
      "IBP_sys         40   2.222222\n",
      "IBP_dias        40   2.222222\n",
      "Parity          33   1.833333\n",
      "ANC             19   1.055556\n",
      "Age(years)      14   0.777778\n"
     ]
    }
   ],
   "source": [
    "def show_missing_values(dataset):\n",
    "    missing_values = pd.DataFrame(dataset.isna().sum())\n",
    "    missing_values[\"%\"] = missing_values / len(dataset) * 100\n",
    "    missing_values = missing_values.sort_values(by=\"%\", ascending=False)\n",
    "    print(missing_values)\n",
    "show_missing_values(dataset)"
   ]
  },
  {
   "cell_type": "markdown",
   "metadata": {},
   "source": [
    "Ono što je najzabrinjavajuće je da više od 40% ciljnog **LNH** nema vrijednost. To predstavlja veliki problem jer takve retke je nemoguće upotrijebiti za klasifikaciju te će oni morati biti obrisani. Time smo reducirali ukupni dataset za 40% što je poprilično loše, ali način za povratiti takve nepostojeće ciljne podatke ne postoji."
   ]
  },
  {
   "cell_type": "code",
   "execution_count": 328,
   "metadata": {},
   "outputs": [
    {
     "name": "stdout",
     "output_type": "stream",
     "text": [
      "                0          %\n",
      "BS(RBS)       531  49.533582\n",
      "Bgroup        367  34.235075\n",
      "SEC           200  18.656716\n",
      "Term/Preterm  133  12.406716\n",
      "Height(cm)    128  11.940299\n",
      "IHb(gm%)      103   9.608209\n",
      "FHb(gm%)      102   9.514925\n",
      "FWt(kg)        13   1.212687\n",
      "Iwt(kg)        12   1.119403\n",
      "Sex            11   1.026119\n",
      "FBP_sys         6   0.559701\n",
      "FBP_dias        6   0.559701\n",
      "IBP_dias        4   0.373134\n",
      "IBP_sys         4   0.373134\n",
      "Age(years)      3   0.279851\n",
      "ANC             0   0.000000\n",
      "Parity          0   0.000000\n",
      "BWt(kg)         0   0.000000\n",
      "LNH             0   0.000000\n"
     ]
    }
   ],
   "source": [
    "dataset.dropna(subset=[\"LNH\"], inplace=True)\n",
    "show_missing_values(dataset)"
   ]
  },
  {
   "cell_type": "markdown",
   "metadata": {},
   "source": [
    "Značajke **BS(RBS)** koja predstavlja razinu šećera u krvi majke fali gotovo 50%. U tome što učiniti s njome pomoći će nam prikaz distribucije."
   ]
  },
  {
   "cell_type": "code",
   "execution_count": 329,
   "metadata": {},
   "outputs": [
    {
     "data": {
      "text/plain": [
       "<seaborn.axisgrid.FacetGrid at 0x7fb2e9037880>"
      ]
     },
     "execution_count": 329,
     "metadata": {},
     "output_type": "execute_result"
    },
    {
     "data": {
      "image/png": "[encoded data removed]",
      "text/plain": [
       "<Figure size 360x360 with 1 Axes>"
      ]
     },
     "metadata": {
      "needs_background": "light"
     },
     "output_type": "display_data"
    }
   ],
   "source": [
    "sns.displot(dataset[\"BS(RBS)\"], color=get_color())"
   ]
  },
  {
   "cell_type": "markdown",
   "metadata": {},
   "source": [
    "Vidimo da ta značajka prati Gaussovu distribuciju što znači da nedostajuće vrijednosti možemo zamijeniti srednjom vrijednošću.  \n",
    "  \n",
    "Značajka **Bgroup**, koja predstavlja krvnu grupu majke, također ima mnogo nedostajućih vrijednosti, ali [istraživanjem](https://www.ijrcog.org/index.php/ijrcog/article/view/2803) možemo doznati da u stvarnom svijetu krvna grupa majke gotovo pa nema nikakvog značajnog utjecaja na težinu djeteta. Stoga kako bi smanjili šum, ovaj će stupac biti obrisan.  \n",
    "  \n",
    "Kategorička značajka **SEC** nije direktan pokazatelj težine novorođenčadi (ne opisuje nikakve zdravstvene karakteristike majke). Pošto ne možemo zamijeniti sa srednjom vrijednosti, izgubili bismo 200 zapisa brisanjem zapisa, pa će stoga **SEC** isto biti kompletno obrisan kao značajka. \n",
    "\n",
    "**Term/Preterm** je jako bitna značajka za težinu novorođenčadi, pa brisanje stupca ne dolazi u obzir, kao niti zamjena sa srednjom vrijednosti pošto se radi o kategoričkom atributu. Ovdje će morati biti obrisani zapisi s null vrijednostima.\n",
    "\n",
    "Kategorička značajka **Sex** ima samo 11 nedostajućih zapisa pa ćemo i njih obrisati.\n",
    "\n",
    "Ostale numeričke značajke (**Height(cm)**, **IHb(gm%)**, **FHb(gm%)**, **FWt(kg)**, **Iwt(kg)**, **FBP_sys**, **FBP_dias**, **IBP_dias**, **IBP_sys**, **Age(years)**) ćemo dopuniti srednjom vrijednošću."
   ]
  },
  {
   "cell_type": "code",
   "execution_count": 330,
   "metadata": {},
   "outputs": [
    {
     "name": "stdout",
     "output_type": "stream",
     "text": [
      "              0    %\n",
      "Age(years)    0  0.0\n",
      "FBP_dias      0  0.0\n",
      "BWt(kg)       0  0.0\n",
      "Sex           0  0.0\n",
      "Term/Preterm  0  0.0\n",
      "BS(RBS)       0  0.0\n",
      "FHb(gm%)      0  0.0\n",
      "IHb(gm%)      0  0.0\n",
      "FBP_sys       0  0.0\n",
      "Height(cm)    0  0.0\n",
      "IBP_dias      0  0.0\n",
      "IBP_sys       0  0.0\n",
      "FWt(kg)       0  0.0\n",
      "Iwt(kg)       0  0.0\n",
      "ANC           0  0.0\n",
      "Parity        0  0.0\n",
      "LNH           0  0.0\n"
     ]
    }
   ],
   "source": [
    "# brisanje stupca Bgroup\n",
    "dataset.drop([\"Bgroup\"], axis=1, inplace=True)\n",
    "\n",
    "# brisanje stupca SEC\n",
    "dataset.drop([\"SEC\"], axis=1, inplace=True)\n",
    "\n",
    "# brisanje zapisa s null vrijednostima stupca Term/Preterm\n",
    "dataset.dropna(subset=[\"Term/Preterm\"], inplace=True)\n",
    "\n",
    "# brisanje zapisa s null vrijednostima stupca Sex\n",
    "dataset.dropna(subset=[\"Sex\"], inplace=True)\n",
    "\n",
    "# zamjena null vrijednosti ostalih numeričkih značajki pripadajućom srednjom vrijednošću\n",
    "columns = [\"BS(RBS)\", \"Height(cm)\", \"IHb(gm%)\", \"FHb(gm%)\", \"FWt(kg)\", \"Iwt(kg)\",\n",
    "           \"FBP_sys\", \"FBP_dias\", \"IBP_dias\", \"IBP_sys\", \"Age(years)\"]\n",
    "for col in columns:\n",
    "    dataset.loc[dataset[col].isna(), col] = dataset.loc[:, col].mean()\n",
    "\n",
    "show_missing_values(dataset)"
   ]
  },
  {
   "cell_type": "markdown",
   "metadata": {},
   "source": [
    "Sada kada smo \"srezali\" sve stupce i retke, možemo za lakoću u budućnosti staviti tekstualne kategoričke značajke u jednu listu, a numeričke u drugu za lakše manipuliranje podacima."
   ]
  },
  {
   "cell_type": "code",
   "execution_count": 331,
   "metadata": {},
   "outputs": [],
   "source": [
    "categorical_cols = [\"Term/Preterm\", \"Sex\", \"LNH\"]\n",
    "numerical_cols = [\"Age(years)\", \"Height(cm)\", \"Parity\", \"ANC\", \"Iwt(kg)\", \"FWt(kg)\", \"IBP_sys\",\n",
    "                  \"IBP_dias\", \"FBP_sys\", \"FBP_dias\", \"IHb(gm%)\", \"FHb(gm%)\", \"BS(RBS)\", \"BWt(kg)\"]"
   ]
  },
  {
   "cell_type": "markdown",
   "metadata": {},
   "source": [
    "#### 4. Provjera stršećih vrijednosti"
   ]
  },
  {
   "cell_type": "markdown",
   "metadata": {},
   "source": [
    "Pošto je velik broj značajki numerički, morat ćemo prikazati tekstualno statističke podatke i također vizualizirati ih za efektivno uočavanje stršećih vrijednosti."
   ]
  },
  {
   "cell_type": "code",
   "execution_count": 332,
   "metadata": {},
   "outputs": [
    {
     "data": {
      "image/png": "[encoded data removed]",
      "text/plain": [
       "<Figure size 1152x576 with 14 Axes>"
      ]
     },
     "metadata": {
      "needs_background": "light"
     },
     "output_type": "display_data"
    }
   ],
   "source": [
    "fig, axes = plt.subplots(2, 7, figsize=(16, 8))\n",
    "axes = axes.flatten()\n",
    "\n",
    "color = get_color()\n",
    "for i, col in enumerate(numerical_cols):\n",
    "    sns.boxplot(dataset[col], ax=axes[i], color=color)\n",
    "    axes[i].set_title(col)\n",
    "\n",
    "plt.tight_layout()\n",
    "plt.show()"
   ]
  },
  {
   "cell_type": "code",
   "execution_count": 333,
   "metadata": {},
   "outputs": [
    {
     "data": {
      "text/html": [
       "<div>\n",
       "<style scoped>\n",
       "    .dataframe tbody tr th:only-of-type {\n",
       "        vertical-align: middle;\n",
       "    }\n",
       "\n",
       "    .dataframe tbody tr th {\n",
       "        vertical-align: top;\n",
       "    }\n",
       "\n",
       "    .dataframe thead th {\n",
       "        text-align: right;\n",
       "    }\n",
       "</style>\n",
       "<table border=\"1\" class=\"dataframe\">\n",
       "  <thead>\n",
       "    <tr style=\"text-align: right;\">\n",
       "      <th></th>\n",
       "      <th>Age(years)</th>\n",
       "      <th>Height(cm)</th>\n",
       "      <th>Parity</th>\n",
       "      <th>ANC</th>\n",
       "      <th>Iwt(kg)</th>\n",
       "      <th>FWt(kg)</th>\n",
       "      <th>IBP_sys</th>\n",
       "      <th>IBP_dias</th>\n",
       "      <th>FBP_sys</th>\n",
       "      <th>FBP_dias</th>\n",
       "      <th>IHb(gm%)</th>\n",
       "      <th>FHb(gm%)</th>\n",
       "      <th>BS(RBS)</th>\n",
       "      <th>BWt(kg)</th>\n",
       "    </tr>\n",
       "  </thead>\n",
       "  <tbody>\n",
       "    <tr>\n",
       "      <th>count</th>\n",
       "      <td>928.000000</td>\n",
       "      <td>928.000000</td>\n",
       "      <td>928.000000</td>\n",
       "      <td>928.000000</td>\n",
       "      <td>928.000000</td>\n",
       "      <td>928.000000</td>\n",
       "      <td>928.000000</td>\n",
       "      <td>928.000000</td>\n",
       "      <td>928.000000</td>\n",
       "      <td>928.000000</td>\n",
       "      <td>928.000000</td>\n",
       "      <td>928.000000</td>\n",
       "      <td>928.000000</td>\n",
       "      <td>928.000000</td>\n",
       "    </tr>\n",
       "    <tr>\n",
       "      <th>mean</th>\n",
       "      <td>22.863784</td>\n",
       "      <td>141.176398</td>\n",
       "      <td>0.521552</td>\n",
       "      <td>3.752155</td>\n",
       "      <td>45.508734</td>\n",
       "      <td>52.411900</td>\n",
       "      <td>104.401515</td>\n",
       "      <td>66.437229</td>\n",
       "      <td>110.448537</td>\n",
       "      <td>71.622969</td>\n",
       "      <td>10.087211</td>\n",
       "      <td>10.644766</td>\n",
       "      <td>102.037175</td>\n",
       "      <td>2.761175</td>\n",
       "    </tr>\n",
       "    <tr>\n",
       "      <th>std</th>\n",
       "      <td>4.406384</td>\n",
       "      <td>14.980496</td>\n",
       "      <td>0.838379</td>\n",
       "      <td>0.634325</td>\n",
       "      <td>6.925628</td>\n",
       "      <td>6.738135</td>\n",
       "      <td>12.080458</td>\n",
       "      <td>7.887789</td>\n",
       "      <td>13.822277</td>\n",
       "      <td>8.348452</td>\n",
       "      <td>0.996669</td>\n",
       "      <td>0.950467</td>\n",
       "      <td>11.721289</td>\n",
       "      <td>0.421881</td>\n",
       "    </tr>\n",
       "    <tr>\n",
       "      <th>min</th>\n",
       "      <td>8.000000</td>\n",
       "      <td>10.000000</td>\n",
       "      <td>0.000000</td>\n",
       "      <td>1.000000</td>\n",
       "      <td>30.000000</td>\n",
       "      <td>34.000000</td>\n",
       "      <td>10.000000</td>\n",
       "      <td>40.000000</td>\n",
       "      <td>10.000000</td>\n",
       "      <td>40.000000</td>\n",
       "      <td>6.000000</td>\n",
       "      <td>1.500000</td>\n",
       "      <td>12.000000</td>\n",
       "      <td>0.500000</td>\n",
       "    </tr>\n",
       "    <tr>\n",
       "      <th>25%</th>\n",
       "      <td>20.000000</td>\n",
       "      <td>138.000000</td>\n",
       "      <td>0.000000</td>\n",
       "      <td>4.000000</td>\n",
       "      <td>40.000000</td>\n",
       "      <td>48.000000</td>\n",
       "      <td>100.000000</td>\n",
       "      <td>60.000000</td>\n",
       "      <td>107.000000</td>\n",
       "      <td>70.000000</td>\n",
       "      <td>9.500000</td>\n",
       "      <td>10.000000</td>\n",
       "      <td>99.000000</td>\n",
       "      <td>2.500000</td>\n",
       "    </tr>\n",
       "    <tr>\n",
       "      <th>50%</th>\n",
       "      <td>22.000000</td>\n",
       "      <td>145.000000</td>\n",
       "      <td>0.000000</td>\n",
       "      <td>4.000000</td>\n",
       "      <td>45.000000</td>\n",
       "      <td>52.000000</td>\n",
       "      <td>105.000000</td>\n",
       "      <td>69.000000</td>\n",
       "      <td>110.000000</td>\n",
       "      <td>70.000000</td>\n",
       "      <td>10.000000</td>\n",
       "      <td>10.800000</td>\n",
       "      <td>102.037175</td>\n",
       "      <td>2.700000</td>\n",
       "    </tr>\n",
       "    <tr>\n",
       "      <th>75%</th>\n",
       "      <td>25.000000</td>\n",
       "      <td>150.000000</td>\n",
       "      <td>1.000000</td>\n",
       "      <td>4.000000</td>\n",
       "      <td>49.000000</td>\n",
       "      <td>55.000000</td>\n",
       "      <td>110.000000</td>\n",
       "      <td>70.000000</td>\n",
       "      <td>120.000000</td>\n",
       "      <td>80.000000</td>\n",
       "      <td>11.000000</td>\n",
       "      <td>11.200000</td>\n",
       "      <td>103.000000</td>\n",
       "      <td>3.000000</td>\n",
       "    </tr>\n",
       "    <tr>\n",
       "      <th>max</th>\n",
       "      <td>55.000000</td>\n",
       "      <td>180.000000</td>\n",
       "      <td>6.000000</td>\n",
       "      <td>4.000000</td>\n",
       "      <td>77.000000</td>\n",
       "      <td>81.000000</td>\n",
       "      <td>150.000000</td>\n",
       "      <td>100.000000</td>\n",
       "      <td>150.000000</td>\n",
       "      <td>117.000000</td>\n",
       "      <td>12.200000</td>\n",
       "      <td>13.200000</td>\n",
       "      <td>159.000000</td>\n",
       "      <td>4.500000</td>\n",
       "    </tr>\n",
       "  </tbody>\n",
       "</table>\n",
       "</div>"
      ],
      "text/plain": [
       "       Age(years)  Height(cm)      Parity         ANC     Iwt(kg)     FWt(kg)  \\\n",
       "count  928.000000  928.000000  928.000000  928.000000  928.000000  928.000000   \n",
       "mean    22.863784  141.176398    0.521552    3.752155   45.508734   52.411900   \n",
       "std      4.406384   14.980496    0.838379    0.634325    6.925628    6.738135   \n",
       "min      8.000000   10.000000    0.000000    1.000000   30.000000   34.000000   \n",
       "25%     20.000000  138.000000    0.000000    4.000000   40.000000   48.000000   \n",
       "50%     22.000000  145.000000    0.000000    4.000000   45.000000   52.000000   \n",
       "75%     25.000000  150.000000    1.000000    4.000000   49.000000   55.000000   \n",
       "max     55.000000  180.000000    6.000000    4.000000   77.000000   81.000000   \n",
       "\n",
       "          IBP_sys    IBP_dias     FBP_sys    FBP_dias    IHb(gm%)    FHb(gm%)  \\\n",
       "count  928.000000  928.000000  928.000000  928.000000  928.000000  928.000000   \n",
       "mean   104.401515   66.437229  110.448537   71.622969   10.087211   10.644766   \n",
       "std     12.080458    7.887789   13.822277    8.348452    0.996669    0.950467   \n",
       "min     10.000000   40.000000   10.000000   40.000000    6.000000    1.500000   \n",
       "25%    100.000000   60.000000  107.000000   70.000000    9.500000   10.000000   \n",
       "50%    105.000000   69.000000  110.000000   70.000000   10.000000   10.800000   \n",
       "75%    110.000000   70.000000  120.000000   80.000000   11.000000   11.200000   \n",
       "max    150.000000  100.000000  150.000000  117.000000   12.200000   13.200000   \n",
       "\n",
       "          BS(RBS)     BWt(kg)  \n",
       "count  928.000000  928.000000  \n",
       "mean   102.037175    2.761175  \n",
       "std     11.721289    0.421881  \n",
       "min     12.000000    0.500000  \n",
       "25%     99.000000    2.500000  \n",
       "50%    102.037175    2.700000  \n",
       "75%    103.000000    3.000000  \n",
       "max    159.000000    4.500000  "
      ]
     },
     "execution_count": 333,
     "metadata": {},
     "output_type": "execute_result"
    }
   ],
   "source": [
    "dataset[numerical_cols].describe()"
   ]
  },
  {
   "cell_type": "markdown",
   "metadata": {},
   "source": [
    "Iz priloženoga se da zaključiti da numeričke značajke generalno nemaju nekih prevelikih odstupanja, osim u **Height(cm)** i **BS(RBS)**.  \n",
    "  \n",
    "Za **Height(cm)**, nemoguće je da je minimalna visina majke 10 centimetara, čak su i vrijednosti oko 50 centimetara poprilično nerealne (iako, iz minimalne vrijednosti **Age(years)** saznajemo potresnu informaciju da je neka majka imala 8 godina prilikom poroda) pa ćemo ih obrisati.\n",
    "\n",
    "U **BS(RBS)** minimalna vrijednost je 12 što je ponovno nerealno (po nekim izvorima, osoba s razinom šećera u krvi ispod 54 kreće imati napadaje i pada u komu), ali ćemo ju za sad ipak ostaviti."
   ]
  },
  {
   "cell_type": "code",
   "execution_count": 334,
   "metadata": {},
   "outputs": [],
   "source": [
    "dataset = dataset[dataset['Height(cm)'] >= 50]"
   ]
  },
  {
   "cell_type": "markdown",
   "metadata": {},
   "source": [
    "#### 5. Vizualizacija značajki"
   ]
  },
  {
   "cell_type": "markdown",
   "metadata": {},
   "source": [
    "Tekstualne kategoričke značajke, zajedno s ciljnom značajkom **LNH**, ćemo vizualizirati na način da vidimo koliko unikatnih vrijednosti one sadrže."
   ]
  },
  {
   "cell_type": "code",
   "execution_count": 335,
   "metadata": {},
   "outputs": [
    {
     "name": "stdout",
     "output_type": "stream",
     "text": [
      "              count      %\n",
      "Term/Preterm              \n",
      "T               858  92.66\n",
      "PT               68   7.34\n",
      "\n",
      "     count      %\n",
      "Sex              \n",
      "M      485  52.38\n",
      "F      439  47.41\n",
      "T        2   0.22\n",
      "\n",
      "     count      %\n",
      "LNH              \n",
      "2.0    805  86.93\n",
      "1.0    117  12.63\n",
      "3.0      4   0.43\n",
      "\n"
     ]
    },
    {
     "data": {
      "image/png": "[encoded data removed]",
      "text/plain": [
       "<Figure size 1152x288 with 3 Axes>"
      ]
     },
     "metadata": {
      "needs_background": "light"
     },
     "output_type": "display_data"
    }
   ],
   "source": [
    "fig, axes = plt.subplots(1, 3, figsize=(16, 4))\n",
    "axes = axes.flatten()\n",
    "\n",
    "for i, col in enumerate(categorical_cols):\n",
    "    sns.barplot(dataset[col].value_counts(), ax=axes[i], color=get_color())\n",
    "    axes[i].set_title(col)\n",
    "\n",
    "    new_df = pd.DataFrame(dataset[col].value_counts())\n",
    "    new_df[\"%\"] = round(new_df / len(dataset) * 100, 2)\n",
    "\n",
    "    print(f'{new_df}\\n')\n",
    "\n",
    "plt.tight_layout()\n",
    "plt.show()"
   ]
  },
  {
   "cell_type": "markdown",
   "metadata": {},
   "source": [
    "Vidimo da **Sex** stupac sadrži 2 vrijednosti \"T\" (vjerojatno *transsexual*?) što bi potencijalno moglo zbuniti model, ali za sad ćemo samo biti svjesni toga. Također, ciljni **LNH** ima za *Over-weight* samo 4 zapisa što je vrlo nebalansirano u usporedbi s *Low-weight* i *Normal-weight*.\n",
    "  \n",
    "Također, možemo prikazati kako se broj **Term/Preterm** vrijednosti mijenja po različitim vrijednostima klase **LNH**."
   ]
  },
  {
   "cell_type": "code",
   "execution_count": 336,
   "metadata": {},
   "outputs": [
    {
     "name": "stdout",
     "output_type": "stream",
     "text": [
      "\n",
      "---Target: 2.0---\n",
      "Term: 95.65%\n",
      "Preterm: 4.35%\n",
      "\n",
      "---Target: 1.0---\n",
      "Term: 71.79%\n",
      "Preterm: 28.21%\n",
      "\n",
      "---Target: 3.0---\n",
      "Term: 100.0%\n"
     ]
    },
    {
     "data": {
      "image/png": "[encoded data removed]",
      "text/plain": [
       "<Figure size 720x288 with 3 Axes>"
      ]
     },
     "metadata": {
      "needs_background": "light"
     },
     "output_type": "display_data"
    }
   ],
   "source": [
    "fig, axes = plt.subplots(1, 3, figsize=(10, 4))\n",
    "axes = axes.flatten()\n",
    "\n",
    "for i, target in enumerate(dataset[\"LNH\"].unique()):\n",
    "    print(f\"\\n---Target: {target}---\")\n",
    "    selected = dataset[dataset[\"LNH\"] == target]\n",
    "    values = selected[\"Term/Preterm\"].value_counts()\n",
    "    sns.barplot(values, ax=axes[i], color=get_color())\n",
    "    axes[i].set_title(f\"LNH: {target}\")\n",
    "    print(f\"Term: {round(values['T'] / len(selected) * 100, 2)}%\")\n",
    "    if (i != 2):\n",
    "        print(f\"Preterm: {round(values['PT'] / len(selected) * 100, 2)}%\")\n",
    "\n",
    "plt.tight_layout()\n",
    "plt.show()"
   ]
  },
  {
   "cell_type": "markdown",
   "metadata": {},
   "source": [
    "Vidljivo je iz grafova da je udio Preterm novorođene djece s nižom težinom veći od one novorođene djece s normalnom težinom. To ima smisla jer novorođenčad koja je \"uranila\" s rođenjem i imaju manju tjelesnu težinu od onih koji su rođeni \"na vrijeme\"."
   ]
  },
  {
   "cell_type": "markdown",
   "metadata": {},
   "source": [
    "Sada ćemo vizualizirati neke numeričke značajke na način koji bi nam mogao ukazati na interesantne odnose između podataka.\n",
    "\n",
    "Prvo, možemo vidjeti razdiobu inicijalne težine majke **Iwt(kg)** i konačne težine majke **Fwt(kg)** u odnosu na težinu novorođenog djeteta **LNH**."
   ]
  },
  {
   "cell_type": "code",
   "execution_count": 337,
   "metadata": {},
   "outputs": [
    {
     "data": {
      "image/png": "[encoded data removed]",
      "text/plain": [
       "<Figure size 1080x576 with 6 Axes>"
      ]
     },
     "metadata": {
      "needs_background": "light"
     },
     "output_type": "display_data"
    }
   ],
   "source": [
    "fig, axes = plt.subplots(2, 3, figsize=(15, 8))\n",
    "axes = axes.flatten()\n",
    "\n",
    "columns = [\"Iwt(kg)\", \"FWt(kg)\"]\n",
    "for i, target in enumerate(dataset[\"LNH\"].unique()):\n",
    "    color = get_color()\n",
    "    for j, col in enumerate(columns):\n",
    "        selected = dataset[dataset[\"LNH\"] == target]\n",
    "        sns.histplot(selected, x=col, ax=axes[3*j + i], color=color)\n",
    "        axes[3*j + i].set_xlim(30, 82)\n",
    "        axes[3*j + i].set_title(f\"{col}, LNH: {target}\")\n",
    "\n",
    "plt.tight_layout()\n",
    "plt.show()"
   ]
  },
  {
   "cell_type": "markdown",
   "metadata": {},
   "source": [
    "Vidimo kako trend podataka ima smisla, odnosno zdravorazumski je pretpostaviti da će od početka do kraja trudnoće težina majke porasti (što se može očitati iz pomaka srednje vrijednosti udesno na histogramskom prikazu).\n",
    "  \n",
    "Također možemo vidjeti za koliko se točno srednja vrijednost pomaknula u odnosu na početak i kraj trudnoće za svaku **LNH** vrijednost."
   ]
  },
  {
   "cell_type": "code",
   "execution_count": 338,
   "metadata": {},
   "outputs": [
    {
     "name": "stdout",
     "output_type": "stream",
     "text": [
      "---Target: 2.0---\n",
      "Iwt(kg) mean: 45.56\n",
      "FWt(kg) mean: 52.55\n",
      "Difference: 6.991475765548287\n",
      "\n",
      "---Target: 1.0---\n",
      "Iwt(kg) mean: 45.23\n",
      "FWt(kg) mean: 51.53\n",
      "Difference: 6.2991452991452945\n",
      "\n",
      "---Target: 3.0---\n",
      "Iwt(kg) mean: 45.5\n",
      "FWt(kg) mean: 52.75\n",
      "Difference: 7.25\n",
      "\n"
     ]
    }
   ],
   "source": [
    "for target in dataset[\"LNH\"].unique():\n",
    "    means = []\n",
    "    print(f\"---Target: {target}---\")\n",
    "    for col in [\"Iwt(kg)\", \"FWt(kg)\"]:\n",
    "        selected = dataset[dataset[\"LNH\"] == target][col]\n",
    "        means.append(selected.mean())\n",
    "        print(f\"{col} mean: {round(means[-1], 2)}\")\n",
    "    print(f\"Difference: {means[1] - means[0]}\\n\")"
   ]
  },
  {
   "cell_type": "markdown",
   "metadata": {},
   "source": [
    "Čisto informativno, prikazat ćemo **Age(years)** i **Height(cm)** u obliku histograma u ovisnosti o svakoj pojedinoj **LNH** vrijednosti."
   ]
  },
  {
   "cell_type": "code",
   "execution_count": 339,
   "metadata": {},
   "outputs": [
    {
     "name": "stdout",
     "output_type": "stream",
     "text": [
      "\n",
      "---Target: 2.0---\n",
      "Age(years) mean: 22.89\n",
      "Height(cm) mean: 140.72\n",
      "\n",
      "---Target: 1.0---\n",
      "Age(years) mean: 22.59\n",
      "Height(cm) mean: 146.03\n",
      "\n",
      "---Target: 3.0---\n",
      "Age(years) mean: 26.75\n",
      "Height(cm) mean: 147.75\n"
     ]
    },
    {
     "data": {
      "image/png": "[encoded data removed]",
      "text/plain": [
       "<Figure size 1080x576 with 6 Axes>"
      ]
     },
     "metadata": {
      "needs_background": "light"
     },
     "output_type": "display_data"
    }
   ],
   "source": [
    "fig, axes = plt.subplots(3, 2, figsize=(15, 8))\n",
    "axes = axes.flatten()\n",
    "\n",
    "color = [get_color(), get_color()]\n",
    "columns = [\"Age(years)\", \"Height(cm)\"]\n",
    "for i, target in enumerate(dataset[\"LNH\"].unique()):\n",
    "    print(f\"\\n---Target: {target}---\")\n",
    "    for j, col in enumerate(columns):\n",
    "        selected = dataset[dataset[\"LNH\"] == target]\n",
    "        sns.histplot(selected, x=col, ax=axes[2*i + j], color=color[j % 2])\n",
    "        if (j == 0): axes[2*i + j].set_xlim(8, 60)\n",
    "        else: axes[2*i + j].set_xlim(50, 180)\n",
    "        axes[2*i + j].set_title(f\"{col}, LNH: {target}\")\n",
    "        print(f\"{col} mean: {round(selected[col].mean(), 2)}\")\n",
    "plt.tight_layout()\n",
    "plt.show()"
   ]
  },
  {
   "cell_type": "markdown",
   "metadata": {},
   "source": [
    "Vidimo da se srednja vrijednost godina i visine nije pretjerano mijenjala ovisno o težini djeteta što ukazuje da te značajke nisu međusobno previše korelirane.\n",
    "  \n",
    "Za kraj ćemo informativno prikazati odnos početne i konačne razine hemoglobina majke kao scatterplot, ovisno o različitim vrijednostima ciljne značajke (zbog jednostavnosti, kod za prikaz kopiran je iz bilježnice prvog dijela projekta)."
   ]
  },
  {
   "cell_type": "code",
   "execution_count": 340,
   "metadata": {},
   "outputs": [
    {
     "data": {
      "text/plain": [
       "<matplotlib.legend.Legend at 0x7fb2e908b7c0>"
      ]
     },
     "execution_count": 340,
     "metadata": {},
     "output_type": "execute_result"
    },
    {
     "data": {
      "image/png": "[encoded data removed]",
      "text/plain": [
       "<Figure size 720x360 with 1 Axes>"
      ]
     },
     "metadata": {
      "needs_background": "light"
     },
     "output_type": "display_data"
    }
   ],
   "source": [
    "fig, ax = plt.subplots(1, 1, figsize=(10, 5))\n",
    "\n",
    "target = dataset['LNH'].value_counts()\n",
    "colors = {0: '#ff8989', 1: '#89ffa2', 2: '#ffd659'}\n",
    "for target_value, color in colors.items():\n",
    "    subset = dataset[dataset['LNH'] == target_value]\n",
    "    ax.scatter(subset['IHb(gm%)'], subset['FHb(gm%)'], c=color, label=f'{target.keys().values[target_value - 1]}', alpha=0.8)\n",
    "ax.set_xlabel('IHb(gm%)')\n",
    "ax.set_ylabel('FHb(gm%)')\n",
    "ax.legend(loc='best')"
   ]
  },
  {
   "cell_type": "markdown",
   "metadata": {},
   "source": [
    "#### 6. Transformacija tekstualnih značajki u numeričke\n",
    "\n",
    "Sljedeći korak nakon ove eksplorativne analize podataka je sve kategoričke značajke u tekstualnom zapisu, a to su samo **Term/Preterm**, **Sex** i ciljna **LNH**, pretvoriti u numeričke kako bi mogli kasnije biti ulazi u modele strojnog učenja. Za to ćemo koristiti LabelEncoder od Scikit-learna."
   ]
  },
  {
   "cell_type": "code",
   "execution_count": 341,
   "metadata": {},
   "outputs": [
    {
     "data": {
      "text/html": [
       "<div>\n",
       "<style scoped>\n",
       "    .dataframe tbody tr th:only-of-type {\n",
       "        vertical-align: middle;\n",
       "    }\n",
       "\n",
       "    .dataframe tbody tr th {\n",
       "        vertical-align: top;\n",
       "    }\n",
       "\n",
       "    .dataframe thead th {\n",
       "        text-align: right;\n",
       "    }\n",
       "</style>\n",
       "<table border=\"1\" class=\"dataframe\">\n",
       "  <thead>\n",
       "    <tr style=\"text-align: right;\">\n",
       "      <th></th>\n",
       "      <th>Term/Preterm</th>\n",
       "      <th>Sex</th>\n",
       "      <th>LNH</th>\n",
       "    </tr>\n",
       "  </thead>\n",
       "  <tbody>\n",
       "    <tr>\n",
       "      <th>0</th>\n",
       "      <td>1</td>\n",
       "      <td>0</td>\n",
       "      <td>1</td>\n",
       "    </tr>\n",
       "    <tr>\n",
       "      <th>1</th>\n",
       "      <td>1</td>\n",
       "      <td>1</td>\n",
       "      <td>1</td>\n",
       "    </tr>\n",
       "    <tr>\n",
       "      <th>2</th>\n",
       "      <td>1</td>\n",
       "      <td>1</td>\n",
       "      <td>0</td>\n",
       "    </tr>\n",
       "    <tr>\n",
       "      <th>3</th>\n",
       "      <td>1</td>\n",
       "      <td>0</td>\n",
       "      <td>1</td>\n",
       "    </tr>\n",
       "    <tr>\n",
       "      <th>4</th>\n",
       "      <td>1</td>\n",
       "      <td>0</td>\n",
       "      <td>0</td>\n",
       "    </tr>\n",
       "    <tr>\n",
       "      <th>...</th>\n",
       "      <td>...</td>\n",
       "      <td>...</td>\n",
       "      <td>...</td>\n",
       "    </tr>\n",
       "    <tr>\n",
       "      <th>1785</th>\n",
       "      <td>1</td>\n",
       "      <td>1</td>\n",
       "      <td>1</td>\n",
       "    </tr>\n",
       "    <tr>\n",
       "      <th>1786</th>\n",
       "      <td>1</td>\n",
       "      <td>1</td>\n",
       "      <td>1</td>\n",
       "    </tr>\n",
       "    <tr>\n",
       "      <th>1787</th>\n",
       "      <td>1</td>\n",
       "      <td>1</td>\n",
       "      <td>1</td>\n",
       "    </tr>\n",
       "    <tr>\n",
       "      <th>1788</th>\n",
       "      <td>1</td>\n",
       "      <td>0</td>\n",
       "      <td>1</td>\n",
       "    </tr>\n",
       "    <tr>\n",
       "      <th>1789</th>\n",
       "      <td>1</td>\n",
       "      <td>1</td>\n",
       "      <td>1</td>\n",
       "    </tr>\n",
       "  </tbody>\n",
       "</table>\n",
       "<p>926 rows × 3 columns</p>\n",
       "</div>"
      ],
      "text/plain": [
       "      Term/Preterm  Sex  LNH\n",
       "0                1    0    1\n",
       "1                1    1    1\n",
       "2                1    1    0\n",
       "3                1    0    1\n",
       "4                1    0    0\n",
       "...            ...  ...  ...\n",
       "1785             1    1    1\n",
       "1786             1    1    1\n",
       "1787             1    1    1\n",
       "1788             1    0    1\n",
       "1789             1    1    1\n",
       "\n",
       "[926 rows x 3 columns]"
      ]
     },
     "execution_count": 341,
     "metadata": {},
     "output_type": "execute_result"
    }
   ],
   "source": [
    "for col in categorical_cols:\n",
    "    le = LabelEncoder()\n",
    "    dataset[col] = le.fit_transform(dataset[col])\n",
    "dataset[categorical_cols]"
   ]
  },
  {
   "cell_type": "markdown",
   "metadata": {},
   "source": [
    "#### 7. Normalizacija\n",
    "Kao posljednji korak u ovoj analizi podataka bit će izvršena normalizacija, sada svih, numeričkih podataka kako bi ih budući modeli mogli koristiti za svoje ulaze. Svi će se podaci preslikati u vrijednosti iz raspona **[0,1]**."
   ]
  },
  {
   "cell_type": "code",
   "execution_count": 343,
   "metadata": {},
   "outputs": [
    {
     "data": {
      "text/html": [
       "<div>\n",
       "<style scoped>\n",
       "    .dataframe tbody tr th:only-of-type {\n",
       "        vertical-align: middle;\n",
       "    }\n",
       "\n",
       "    .dataframe tbody tr th {\n",
       "        vertical-align: top;\n",
       "    }\n",
       "\n",
       "    .dataframe thead th {\n",
       "        text-align: right;\n",
       "    }\n",
       "</style>\n",
       "<table border=\"1\" class=\"dataframe\">\n",
       "  <thead>\n",
       "    <tr style=\"text-align: right;\">\n",
       "      <th></th>\n",
       "      <th>Age(years)</th>\n",
       "      <th>Height(cm)</th>\n",
       "      <th>Parity</th>\n",
       "      <th>ANC</th>\n",
       "      <th>Iwt(kg)</th>\n",
       "      <th>FWt(kg)</th>\n",
       "      <th>IBP_sys</th>\n",
       "      <th>IBP_dias</th>\n",
       "      <th>FBP_sys</th>\n",
       "      <th>FBP_dias</th>\n",
       "      <th>IHb(gm%)</th>\n",
       "      <th>FHb(gm%)</th>\n",
       "      <th>BS(RBS)</th>\n",
       "      <th>Term/Preterm</th>\n",
       "      <th>Sex</th>\n",
       "      <th>BWt(kg)</th>\n",
       "      <th>LNH</th>\n",
       "    </tr>\n",
       "  </thead>\n",
       "  <tbody>\n",
       "    <tr>\n",
       "      <th>0</th>\n",
       "      <td>0.319149</td>\n",
       "      <td>0.716667</td>\n",
       "      <td>0.166667</td>\n",
       "      <td>1.000000</td>\n",
       "      <td>0.085106</td>\n",
       "      <td>0.170213</td>\n",
       "      <td>0.757143</td>\n",
       "      <td>0.633333</td>\n",
       "      <td>0.785714</td>\n",
       "      <td>0.389610</td>\n",
       "      <td>0.645161</td>\n",
       "      <td>1.000000</td>\n",
       "      <td>0.530612</td>\n",
       "      <td>1.0</td>\n",
       "      <td>0.0</td>\n",
       "      <td>0.550</td>\n",
       "      <td>0.5</td>\n",
       "    </tr>\n",
       "    <tr>\n",
       "      <th>1</th>\n",
       "      <td>0.361702</td>\n",
       "      <td>0.875000</td>\n",
       "      <td>0.166667</td>\n",
       "      <td>0.666667</td>\n",
       "      <td>0.808511</td>\n",
       "      <td>0.787234</td>\n",
       "      <td>0.614286</td>\n",
       "      <td>0.500000</td>\n",
       "      <td>0.714286</td>\n",
       "      <td>0.415584</td>\n",
       "      <td>0.709677</td>\n",
       "      <td>0.811966</td>\n",
       "      <td>0.571429</td>\n",
       "      <td>1.0</td>\n",
       "      <td>0.5</td>\n",
       "      <td>0.600</td>\n",
       "      <td>0.5</td>\n",
       "    </tr>\n",
       "    <tr>\n",
       "      <th>2</th>\n",
       "      <td>0.340426</td>\n",
       "      <td>0.791667</td>\n",
       "      <td>0.166667</td>\n",
       "      <td>0.666667</td>\n",
       "      <td>0.404255</td>\n",
       "      <td>0.446809</td>\n",
       "      <td>0.578571</td>\n",
       "      <td>0.200000</td>\n",
       "      <td>0.714286</td>\n",
       "      <td>0.389610</td>\n",
       "      <td>0.806452</td>\n",
       "      <td>0.863248</td>\n",
       "      <td>0.612245</td>\n",
       "      <td>1.0</td>\n",
       "      <td>0.5</td>\n",
       "      <td>0.475</td>\n",
       "      <td>0.0</td>\n",
       "    </tr>\n",
       "    <tr>\n",
       "      <th>3</th>\n",
       "      <td>0.234043</td>\n",
       "      <td>0.783333</td>\n",
       "      <td>0.166667</td>\n",
       "      <td>0.333333</td>\n",
       "      <td>0.404255</td>\n",
       "      <td>0.340426</td>\n",
       "      <td>0.571429</td>\n",
       "      <td>0.200000</td>\n",
       "      <td>0.642857</td>\n",
       "      <td>0.259740</td>\n",
       "      <td>0.645161</td>\n",
       "      <td>0.777778</td>\n",
       "      <td>0.619048</td>\n",
       "      <td>1.0</td>\n",
       "      <td>0.0</td>\n",
       "      <td>0.525</td>\n",
       "      <td>0.5</td>\n",
       "    </tr>\n",
       "    <tr>\n",
       "      <th>4</th>\n",
       "      <td>0.276596</td>\n",
       "      <td>0.750000</td>\n",
       "      <td>0.166667</td>\n",
       "      <td>1.000000</td>\n",
       "      <td>0.234043</td>\n",
       "      <td>0.297872</td>\n",
       "      <td>0.642857</td>\n",
       "      <td>0.333333</td>\n",
       "      <td>0.714286</td>\n",
       "      <td>0.389610</td>\n",
       "      <td>0.483871</td>\n",
       "      <td>0.743590</td>\n",
       "      <td>0.591837</td>\n",
       "      <td>1.0</td>\n",
       "      <td>0.0</td>\n",
       "      <td>0.450</td>\n",
       "      <td>0.0</td>\n",
       "    </tr>\n",
       "    <tr>\n",
       "      <th>...</th>\n",
       "      <td>...</td>\n",
       "      <td>...</td>\n",
       "      <td>...</td>\n",
       "      <td>...</td>\n",
       "      <td>...</td>\n",
       "      <td>...</td>\n",
       "      <td>...</td>\n",
       "      <td>...</td>\n",
       "      <td>...</td>\n",
       "      <td>...</td>\n",
       "      <td>...</td>\n",
       "      <td>...</td>\n",
       "      <td>...</td>\n",
       "      <td>...</td>\n",
       "      <td>...</td>\n",
       "      <td>...</td>\n",
       "      <td>...</td>\n",
       "    </tr>\n",
       "    <tr>\n",
       "      <th>921</th>\n",
       "      <td>0.212766</td>\n",
       "      <td>0.676470</td>\n",
       "      <td>0.000000</td>\n",
       "      <td>1.000000</td>\n",
       "      <td>0.106383</td>\n",
       "      <td>0.191489</td>\n",
       "      <td>0.642857</td>\n",
       "      <td>0.500000</td>\n",
       "      <td>0.785714</td>\n",
       "      <td>0.519481</td>\n",
       "      <td>0.645161</td>\n",
       "      <td>0.726496</td>\n",
       "      <td>0.612498</td>\n",
       "      <td>1.0</td>\n",
       "      <td>0.5</td>\n",
       "      <td>0.525</td>\n",
       "      <td>0.5</td>\n",
       "    </tr>\n",
       "    <tr>\n",
       "      <th>922</th>\n",
       "      <td>0.170213</td>\n",
       "      <td>0.676470</td>\n",
       "      <td>0.000000</td>\n",
       "      <td>1.000000</td>\n",
       "      <td>0.148936</td>\n",
       "      <td>0.234043</td>\n",
       "      <td>0.642857</td>\n",
       "      <td>0.500000</td>\n",
       "      <td>0.785714</td>\n",
       "      <td>0.519481</td>\n",
       "      <td>0.645161</td>\n",
       "      <td>0.726496</td>\n",
       "      <td>0.612498</td>\n",
       "      <td>1.0</td>\n",
       "      <td>0.5</td>\n",
       "      <td>0.500</td>\n",
       "      <td>0.5</td>\n",
       "    </tr>\n",
       "    <tr>\n",
       "      <th>923</th>\n",
       "      <td>0.361702</td>\n",
       "      <td>0.676470</td>\n",
       "      <td>0.166667</td>\n",
       "      <td>1.000000</td>\n",
       "      <td>0.212766</td>\n",
       "      <td>0.234043</td>\n",
       "      <td>0.714286</td>\n",
       "      <td>0.600000</td>\n",
       "      <td>0.828571</td>\n",
       "      <td>0.649351</td>\n",
       "      <td>0.564516</td>\n",
       "      <td>0.683761</td>\n",
       "      <td>0.612498</td>\n",
       "      <td>1.0</td>\n",
       "      <td>0.5</td>\n",
       "      <td>0.500</td>\n",
       "      <td>0.5</td>\n",
       "    </tr>\n",
       "    <tr>\n",
       "      <th>924</th>\n",
       "      <td>0.382979</td>\n",
       "      <td>0.676470</td>\n",
       "      <td>0.333333</td>\n",
       "      <td>1.000000</td>\n",
       "      <td>0.255319</td>\n",
       "      <td>0.255319</td>\n",
       "      <td>0.642857</td>\n",
       "      <td>0.500000</td>\n",
       "      <td>0.785714</td>\n",
       "      <td>0.597403</td>\n",
       "      <td>0.483871</td>\n",
       "      <td>0.641026</td>\n",
       "      <td>0.612498</td>\n",
       "      <td>1.0</td>\n",
       "      <td>0.0</td>\n",
       "      <td>0.550</td>\n",
       "      <td>0.5</td>\n",
       "    </tr>\n",
       "    <tr>\n",
       "      <th>925</th>\n",
       "      <td>0.361702</td>\n",
       "      <td>0.676470</td>\n",
       "      <td>0.500000</td>\n",
       "      <td>0.000000</td>\n",
       "      <td>0.212766</td>\n",
       "      <td>0.127660</td>\n",
       "      <td>0.685714</td>\n",
       "      <td>0.500000</td>\n",
       "      <td>0.685714</td>\n",
       "      <td>0.389610</td>\n",
       "      <td>0.612903</td>\n",
       "      <td>0.709402</td>\n",
       "      <td>0.612498</td>\n",
       "      <td>1.0</td>\n",
       "      <td>0.5</td>\n",
       "      <td>0.500</td>\n",
       "      <td>0.5</td>\n",
       "    </tr>\n",
       "  </tbody>\n",
       "</table>\n",
       "<p>926 rows × 17 columns</p>\n",
       "</div>"
      ],
      "text/plain": [
       "     Age(years)  Height(cm)    Parity       ANC   Iwt(kg)   FWt(kg)   IBP_sys  \\\n",
       "0      0.319149    0.716667  0.166667  1.000000  0.085106  0.170213  0.757143   \n",
       "1      0.361702    0.875000  0.166667  0.666667  0.808511  0.787234  0.614286   \n",
       "2      0.340426    0.791667  0.166667  0.666667  0.404255  0.446809  0.578571   \n",
       "3      0.234043    0.783333  0.166667  0.333333  0.404255  0.340426  0.571429   \n",
       "4      0.276596    0.750000  0.166667  1.000000  0.234043  0.297872  0.642857   \n",
       "..          ...         ...       ...       ...       ...       ...       ...   \n",
       "921    0.212766    0.676470  0.000000  1.000000  0.106383  0.191489  0.642857   \n",
       "922    0.170213    0.676470  0.000000  1.000000  0.148936  0.234043  0.642857   \n",
       "923    0.361702    0.676470  0.166667  1.000000  0.212766  0.234043  0.714286   \n",
       "924    0.382979    0.676470  0.333333  1.000000  0.255319  0.255319  0.642857   \n",
       "925    0.361702    0.676470  0.500000  0.000000  0.212766  0.127660  0.685714   \n",
       "\n",
       "     IBP_dias   FBP_sys  FBP_dias  IHb(gm%)  FHb(gm%)   BS(RBS)  Term/Preterm  \\\n",
       "0    0.633333  0.785714  0.389610  0.645161  1.000000  0.530612           1.0   \n",
       "1    0.500000  0.714286  0.415584  0.709677  0.811966  0.571429           1.0   \n",
       "2    0.200000  0.714286  0.389610  0.806452  0.863248  0.612245           1.0   \n",
       "3    0.200000  0.642857  0.259740  0.645161  0.777778  0.619048           1.0   \n",
       "4    0.333333  0.714286  0.389610  0.483871  0.743590  0.591837           1.0   \n",
       "..        ...       ...       ...       ...       ...       ...           ...   \n",
       "921  0.500000  0.785714  0.519481  0.645161  0.726496  0.612498           1.0   \n",
       "922  0.500000  0.785714  0.519481  0.645161  0.726496  0.612498           1.0   \n",
       "923  0.600000  0.828571  0.649351  0.564516  0.683761  0.612498           1.0   \n",
       "924  0.500000  0.785714  0.597403  0.483871  0.641026  0.612498           1.0   \n",
       "925  0.500000  0.685714  0.389610  0.612903  0.709402  0.612498           1.0   \n",
       "\n",
       "     Sex  BWt(kg)  LNH  \n",
       "0    0.0    0.550  0.5  \n",
       "1    0.5    0.600  0.5  \n",
       "2    0.5    0.475  0.0  \n",
       "3    0.0    0.525  0.5  \n",
       "4    0.0    0.450  0.0  \n",
       "..   ...      ...  ...  \n",
       "921  0.5    0.525  0.5  \n",
       "922  0.5    0.500  0.5  \n",
       "923  0.5    0.500  0.5  \n",
       "924  0.0    0.550  0.5  \n",
       "925  0.5    0.500  0.5  \n",
       "\n",
       "[926 rows x 17 columns]"
      ]
     },
     "execution_count": 343,
     "metadata": {},
     "output_type": "execute_result"
    }
   ],
   "source": [
    "scaler = MinMaxScaler()\n",
    "normalized_data = scaler.fit_transform(dataset)\n",
    "dataset = pd.DataFrame(normalized_data, columns=dataset.columns)\n",
    "dataset"
   ]
  },
  {
   "cell_type": "markdown",
   "metadata": {},
   "source": [
    "#### 8. Značajka **BWt(kg)**\n",
    "Za kraj, ova podsekcija će se baviti razmatranjem značajke **BWt(kg)**. Naime, za buduće zadatke klasifikacije ciljne varijable, ova je značajka nepotrebna (čak redundantna). Razlog tome je što zapravo prikazuje istu stvar kao naša ciljna značajka **LNH**, ali preciznije. Odnosno, govori nam točnu izmjerenu težinu novorođenog djeteta, dok je **LNH** samo ta ista vrijednost, ali kategorizirana u jednu od klasa po nekom rasponu. **BWt(kg)** nam je kroz ovu analizu cijelog dataseta bila korisna u nekim vizualizacijama, te stoga nije bila obrisana. Međutim, ako će budući zadaci biti klasifikacijske prirode (dakle na temelju **LNH**), pogrešno je ostaviti tu značajku da bude jedan od ulaza u model. No ako će zadatak biti regresija gdje će se predviđati točna numerička težina djeteta u kilogramima, tada bi se **BWt(kg)** mogla uzeti kao ciljna varijabla. Dakle, sve ovisi o nekim budućim zadaćama i modelima. Za sada, ostat će zakomentirano njeno uklanjanje."
   ]
  },
  {
   "cell_type": "code",
   "execution_count": 344,
   "metadata": {},
   "outputs": [],
   "source": [
    "# dataset.drop([\"BWt(kg)\"], axis=1, inplace=True)"
   ]
  }
 ],
 "metadata": {
  "colab": {
   "provenance": []
  },
  "kernelspec": {
   "display_name": "Python 3",
   "name": "python3"
  },
  "language_info": {
   "codemirror_mode": {
    "name": "ipython",
    "version": 3
   },
   "file_extension": ".py",
   "mimetype": "text/x-python",
   "name": "python",
   "nbconvert_exporter": "python",
   "pygments_lexer": "ipython3",
   "version": "3.10.12"
  }
 },
 "nbformat": 4,
 "nbformat_minor": 0
}
